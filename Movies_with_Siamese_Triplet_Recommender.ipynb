{
  "cells": [
    {
      "cell_type": "markdown",
      "metadata": {
        "id": "kmDX-ufv0Sz8"
      },
      "source": [
        "Adapted https://www.kaggle.com/code/stevengolo/triplet-loss-for-neural-recommender-systems\n",
        "\n",
        "Dataset: https://grouplens.org/datasets/movielens/"
      ]
    },
    {
      "cell_type": "markdown",
      "metadata": {
        "id": "5q6fa6UGWd_D"
      },
      "source": [
        "# Import"
      ]
    },
    {
      "cell_type": "code",
      "execution_count": 1,
      "metadata": {
        "id": "q730IDQtfR9e"
      },
      "outputs": [],
      "source": [
        "import numpy as np\n",
        "import matplotlib.pyplot as plt\n",
        "import pandas as pd\n",
        "from keras import backend as K\n",
        "import tensorflow as tf\n",
        "\n",
        "\n",
        "from sklearn.model_selection import train_test_split\n",
        "from sklearn.metrics import roc_auc_score\n",
        "\n",
        "\n",
        "from tensorflow.keras import layers\n",
        "from tensorflow.keras.layers import (Concatenate, Dense, Dot, Dropout,\n",
        "                                     Embedding, Flatten, Input, Lambda)\n",
        "from tensorflow.keras.models import Model\n",
        "from tensorflow.keras.regularizers import l2\n",
        "\n",
        "import random\n",
        "\n",
        "from tqdm import tqdm\n",
        "\n",
        "import scipy.stats\n",
        "# Visualization\n",
        "import seaborn as sns\n",
        "# Similarity\n",
        "from sklearn.metrics.pairwise import cosine_similarity\n"
      ]
    },
    {
      "cell_type": "markdown",
      "metadata": {
        "id": "SJ8zbk0KeMR4"
      },
      "source": [
        "# Read data"
      ]
    },
    {
      "cell_type": "markdown",
      "metadata": {
        "id": "u4VGI0PGiW60"
      },
      "source": [
        "MovieLens Small has been used with 100.836 ratings and 3.683 tags with 9.742 movies and 610 users. https://files.grouplens.org/datasets/movielens/ml-latest-small.zip"
      ]
    },
    {
      "cell_type": "markdown",
      "metadata": {
        "id": "YQrN5cixefaZ"
      },
      "source": [
        "## Zip"
      ]
    },
    {
      "cell_type": "code",
      "execution_count": 2,
      "metadata": {
        "colab": {
          "base_uri": "https://localhost:8080/"
        },
        "id": "93iLyG3ReLpO",
        "outputId": "b2de6da4-3ee2-4859-b608-a2877c0849c6"
      },
      "outputs": [
        {
          "output_type": "stream",
          "name": "stdout",
          "text": [
            "Archive:  ml-latest-small.zip\n",
            "   creating: ml-latest-small/\n",
            "  inflating: ml-latest-small/links.csv  \n",
            "  inflating: ml-latest-small/tags.csv  \n",
            "  inflating: ml-latest-small/ratings.csv  \n",
            "  inflating: ml-latest-small/README.txt  \n",
            "  inflating: ml-latest-small/movies.csv  \n"
          ]
        }
      ],
      "source": [
        "!unzip ml-latest-small.zip"
      ]
    },
    {
      "cell_type": "markdown",
      "metadata": {
        "id": "wTAjf-vwehUs"
      },
      "source": [
        "## Dataframes"
      ]
    },
    {
      "cell_type": "code",
      "execution_count": 3,
      "metadata": {
        "id": "pNZ121--iaua"
      },
      "outputs": [],
      "source": [
        "# Read the rating file and extract the 3 first columns, user, film, rating\n",
        "pd_ratings = pd.read_csv('ml-latest-small/ratings.csv', usecols=[0,1,2])"
      ]
    },
    {
      "cell_type": "code",
      "execution_count": 4,
      "metadata": {
        "colab": {
          "base_uri": "https://localhost:8080/",
          "height": 206
        },
        "id": "5YTnjUWqgoDG",
        "outputId": "6fec3118-2864-454f-904f-d9c966bf25a6"
      },
      "outputs": [
        {
          "output_type": "execute_result",
          "data": {
            "text/plain": [
              "   userId  movieId  rating\n",
              "0       1        1     4.0\n",
              "1       1        3     4.0\n",
              "2       1        6     4.0\n",
              "3       1       47     5.0\n",
              "4       1       50     5.0"
            ],
            "text/html": [
              "\n",
              "  <div id=\"df-56836f4a-7324-4117-b295-a5832a2065db\">\n",
              "    <div class=\"colab-df-container\">\n",
              "      <div>\n",
              "<style scoped>\n",
              "    .dataframe tbody tr th:only-of-type {\n",
              "        vertical-align: middle;\n",
              "    }\n",
              "\n",
              "    .dataframe tbody tr th {\n",
              "        vertical-align: top;\n",
              "    }\n",
              "\n",
              "    .dataframe thead th {\n",
              "        text-align: right;\n",
              "    }\n",
              "</style>\n",
              "<table border=\"1\" class=\"dataframe\">\n",
              "  <thead>\n",
              "    <tr style=\"text-align: right;\">\n",
              "      <th></th>\n",
              "      <th>userId</th>\n",
              "      <th>movieId</th>\n",
              "      <th>rating</th>\n",
              "    </tr>\n",
              "  </thead>\n",
              "  <tbody>\n",
              "    <tr>\n",
              "      <th>0</th>\n",
              "      <td>1</td>\n",
              "      <td>1</td>\n",
              "      <td>4.0</td>\n",
              "    </tr>\n",
              "    <tr>\n",
              "      <th>1</th>\n",
              "      <td>1</td>\n",
              "      <td>3</td>\n",
              "      <td>4.0</td>\n",
              "    </tr>\n",
              "    <tr>\n",
              "      <th>2</th>\n",
              "      <td>1</td>\n",
              "      <td>6</td>\n",
              "      <td>4.0</td>\n",
              "    </tr>\n",
              "    <tr>\n",
              "      <th>3</th>\n",
              "      <td>1</td>\n",
              "      <td>47</td>\n",
              "      <td>5.0</td>\n",
              "    </tr>\n",
              "    <tr>\n",
              "      <th>4</th>\n",
              "      <td>1</td>\n",
              "      <td>50</td>\n",
              "      <td>5.0</td>\n",
              "    </tr>\n",
              "  </tbody>\n",
              "</table>\n",
              "</div>\n",
              "      <button class=\"colab-df-convert\" onclick=\"convertToInteractive('df-56836f4a-7324-4117-b295-a5832a2065db')\"\n",
              "              title=\"Convert this dataframe to an interactive table.\"\n",
              "              style=\"display:none;\">\n",
              "        \n",
              "  <svg xmlns=\"http://www.w3.org/2000/svg\" height=\"24px\"viewBox=\"0 0 24 24\"\n",
              "       width=\"24px\">\n",
              "    <path d=\"M0 0h24v24H0V0z\" fill=\"none\"/>\n",
              "    <path d=\"M18.56 5.44l.94 2.06.94-2.06 2.06-.94-2.06-.94-.94-2.06-.94 2.06-2.06.94zm-11 1L8.5 8.5l.94-2.06 2.06-.94-2.06-.94L8.5 2.5l-.94 2.06-2.06.94zm10 10l.94 2.06.94-2.06 2.06-.94-2.06-.94-.94-2.06-.94 2.06-2.06.94z\"/><path d=\"M17.41 7.96l-1.37-1.37c-.4-.4-.92-.59-1.43-.59-.52 0-1.04.2-1.43.59L10.3 9.45l-7.72 7.72c-.78.78-.78 2.05 0 2.83L4 21.41c.39.39.9.59 1.41.59.51 0 1.02-.2 1.41-.59l7.78-7.78 2.81-2.81c.8-.78.8-2.07 0-2.86zM5.41 20L4 18.59l7.72-7.72 1.47 1.35L5.41 20z\"/>\n",
              "  </svg>\n",
              "      </button>\n",
              "      \n",
              "  <style>\n",
              "    .colab-df-container {\n",
              "      display:flex;\n",
              "      flex-wrap:wrap;\n",
              "      gap: 12px;\n",
              "    }\n",
              "\n",
              "    .colab-df-convert {\n",
              "      background-color: #E8F0FE;\n",
              "      border: none;\n",
              "      border-radius: 50%;\n",
              "      cursor: pointer;\n",
              "      display: none;\n",
              "      fill: #1967D2;\n",
              "      height: 32px;\n",
              "      padding: 0 0 0 0;\n",
              "      width: 32px;\n",
              "    }\n",
              "\n",
              "    .colab-df-convert:hover {\n",
              "      background-color: #E2EBFA;\n",
              "      box-shadow: 0px 1px 2px rgba(60, 64, 67, 0.3), 0px 1px 3px 1px rgba(60, 64, 67, 0.15);\n",
              "      fill: #174EA6;\n",
              "    }\n",
              "\n",
              "    [theme=dark] .colab-df-convert {\n",
              "      background-color: #3B4455;\n",
              "      fill: #D2E3FC;\n",
              "    }\n",
              "\n",
              "    [theme=dark] .colab-df-convert:hover {\n",
              "      background-color: #434B5C;\n",
              "      box-shadow: 0px 1px 3px 1px rgba(0, 0, 0, 0.15);\n",
              "      filter: drop-shadow(0px 1px 2px rgba(0, 0, 0, 0.3));\n",
              "      fill: #FFFFFF;\n",
              "    }\n",
              "  </style>\n",
              "\n",
              "      <script>\n",
              "        const buttonEl =\n",
              "          document.querySelector('#df-56836f4a-7324-4117-b295-a5832a2065db button.colab-df-convert');\n",
              "        buttonEl.style.display =\n",
              "          google.colab.kernel.accessAllowed ? 'block' : 'none';\n",
              "\n",
              "        async function convertToInteractive(key) {\n",
              "          const element = document.querySelector('#df-56836f4a-7324-4117-b295-a5832a2065db');\n",
              "          const dataTable =\n",
              "            await google.colab.kernel.invokeFunction('convertToInteractive',\n",
              "                                                     [key], {});\n",
              "          if (!dataTable) return;\n",
              "\n",
              "          const docLinkHtml = 'Like what you see? Visit the ' +\n",
              "            '<a target=\"_blank\" href=https://colab.research.google.com/notebooks/data_table.ipynb>data table notebook</a>'\n",
              "            + ' to learn more about interactive tables.';\n",
              "          element.innerHTML = '';\n",
              "          dataTable['output_type'] = 'display_data';\n",
              "          await google.colab.output.renderOutput(dataTable, element);\n",
              "          const docLink = document.createElement('div');\n",
              "          docLink.innerHTML = docLinkHtml;\n",
              "          element.appendChild(docLink);\n",
              "        }\n",
              "      </script>\n",
              "    </div>\n",
              "  </div>\n",
              "  "
            ]
          },
          "metadata": {},
          "execution_count": 4
        }
      ],
      "source": [
        "pd_ratings.head(5)"
      ]
    },
    {
      "cell_type": "code",
      "execution_count": 5,
      "metadata": {
        "colab": {
          "base_uri": "https://localhost:8080/"
        },
        "id": "PwCrMbcxjx2K",
        "outputId": "c4a4a682-7523-449c-fbcf-c77a20bdbb5c"
      },
      "outputs": [
        {
          "output_type": "stream",
          "name": "stdout",
          "text": [
            "Shape of the ratings data: (100836, 3).\n"
          ]
        }
      ],
      "source": [
        "print(f\"Shape of the ratings data: {pd_ratings.shape}.\") "
      ]
    },
    {
      "cell_type": "code",
      "execution_count": 6,
      "metadata": {
        "id": "gg0W7zuEi79X"
      },
      "outputs": [],
      "source": [
        "# Read film metadata\n",
        "pd_movies = pd.read_csv('ml-latest-small/movies.csv')"
      ]
    },
    {
      "cell_type": "code",
      "execution_count": 7,
      "metadata": {
        "colab": {
          "base_uri": "https://localhost:8080/",
          "height": 206
        },
        "id": "q7UyeZfAjW9T",
        "outputId": "8e6497ef-adc3-4f1b-cc70-317636713ffa"
      },
      "outputs": [
        {
          "output_type": "execute_result",
          "data": {
            "text/plain": [
              "   movieId                               title  \\\n",
              "0        1                    Toy Story (1995)   \n",
              "1        2                      Jumanji (1995)   \n",
              "2        3             Grumpier Old Men (1995)   \n",
              "3        4            Waiting to Exhale (1995)   \n",
              "4        5  Father of the Bride Part II (1995)   \n",
              "\n",
              "                                        genres  \n",
              "0  Adventure|Animation|Children|Comedy|Fantasy  \n",
              "1                   Adventure|Children|Fantasy  \n",
              "2                               Comedy|Romance  \n",
              "3                         Comedy|Drama|Romance  \n",
              "4                                       Comedy  "
            ],
            "text/html": [
              "\n",
              "  <div id=\"df-3f464306-db66-47bd-9cf1-7ab061f2f4cc\">\n",
              "    <div class=\"colab-df-container\">\n",
              "      <div>\n",
              "<style scoped>\n",
              "    .dataframe tbody tr th:only-of-type {\n",
              "        vertical-align: middle;\n",
              "    }\n",
              "\n",
              "    .dataframe tbody tr th {\n",
              "        vertical-align: top;\n",
              "    }\n",
              "\n",
              "    .dataframe thead th {\n",
              "        text-align: right;\n",
              "    }\n",
              "</style>\n",
              "<table border=\"1\" class=\"dataframe\">\n",
              "  <thead>\n",
              "    <tr style=\"text-align: right;\">\n",
              "      <th></th>\n",
              "      <th>movieId</th>\n",
              "      <th>title</th>\n",
              "      <th>genres</th>\n",
              "    </tr>\n",
              "  </thead>\n",
              "  <tbody>\n",
              "    <tr>\n",
              "      <th>0</th>\n",
              "      <td>1</td>\n",
              "      <td>Toy Story (1995)</td>\n",
              "      <td>Adventure|Animation|Children|Comedy|Fantasy</td>\n",
              "    </tr>\n",
              "    <tr>\n",
              "      <th>1</th>\n",
              "      <td>2</td>\n",
              "      <td>Jumanji (1995)</td>\n",
              "      <td>Adventure|Children|Fantasy</td>\n",
              "    </tr>\n",
              "    <tr>\n",
              "      <th>2</th>\n",
              "      <td>3</td>\n",
              "      <td>Grumpier Old Men (1995)</td>\n",
              "      <td>Comedy|Romance</td>\n",
              "    </tr>\n",
              "    <tr>\n",
              "      <th>3</th>\n",
              "      <td>4</td>\n",
              "      <td>Waiting to Exhale (1995)</td>\n",
              "      <td>Comedy|Drama|Romance</td>\n",
              "    </tr>\n",
              "    <tr>\n",
              "      <th>4</th>\n",
              "      <td>5</td>\n",
              "      <td>Father of the Bride Part II (1995)</td>\n",
              "      <td>Comedy</td>\n",
              "    </tr>\n",
              "  </tbody>\n",
              "</table>\n",
              "</div>\n",
              "      <button class=\"colab-df-convert\" onclick=\"convertToInteractive('df-3f464306-db66-47bd-9cf1-7ab061f2f4cc')\"\n",
              "              title=\"Convert this dataframe to an interactive table.\"\n",
              "              style=\"display:none;\">\n",
              "        \n",
              "  <svg xmlns=\"http://www.w3.org/2000/svg\" height=\"24px\"viewBox=\"0 0 24 24\"\n",
              "       width=\"24px\">\n",
              "    <path d=\"M0 0h24v24H0V0z\" fill=\"none\"/>\n",
              "    <path d=\"M18.56 5.44l.94 2.06.94-2.06 2.06-.94-2.06-.94-.94-2.06-.94 2.06-2.06.94zm-11 1L8.5 8.5l.94-2.06 2.06-.94-2.06-.94L8.5 2.5l-.94 2.06-2.06.94zm10 10l.94 2.06.94-2.06 2.06-.94-2.06-.94-.94-2.06-.94 2.06-2.06.94z\"/><path d=\"M17.41 7.96l-1.37-1.37c-.4-.4-.92-.59-1.43-.59-.52 0-1.04.2-1.43.59L10.3 9.45l-7.72 7.72c-.78.78-.78 2.05 0 2.83L4 21.41c.39.39.9.59 1.41.59.51 0 1.02-.2 1.41-.59l7.78-7.78 2.81-2.81c.8-.78.8-2.07 0-2.86zM5.41 20L4 18.59l7.72-7.72 1.47 1.35L5.41 20z\"/>\n",
              "  </svg>\n",
              "      </button>\n",
              "      \n",
              "  <style>\n",
              "    .colab-df-container {\n",
              "      display:flex;\n",
              "      flex-wrap:wrap;\n",
              "      gap: 12px;\n",
              "    }\n",
              "\n",
              "    .colab-df-convert {\n",
              "      background-color: #E8F0FE;\n",
              "      border: none;\n",
              "      border-radius: 50%;\n",
              "      cursor: pointer;\n",
              "      display: none;\n",
              "      fill: #1967D2;\n",
              "      height: 32px;\n",
              "      padding: 0 0 0 0;\n",
              "      width: 32px;\n",
              "    }\n",
              "\n",
              "    .colab-df-convert:hover {\n",
              "      background-color: #E2EBFA;\n",
              "      box-shadow: 0px 1px 2px rgba(60, 64, 67, 0.3), 0px 1px 3px 1px rgba(60, 64, 67, 0.15);\n",
              "      fill: #174EA6;\n",
              "    }\n",
              "\n",
              "    [theme=dark] .colab-df-convert {\n",
              "      background-color: #3B4455;\n",
              "      fill: #D2E3FC;\n",
              "    }\n",
              "\n",
              "    [theme=dark] .colab-df-convert:hover {\n",
              "      background-color: #434B5C;\n",
              "      box-shadow: 0px 1px 3px 1px rgba(0, 0, 0, 0.15);\n",
              "      filter: drop-shadow(0px 1px 2px rgba(0, 0, 0, 0.3));\n",
              "      fill: #FFFFFF;\n",
              "    }\n",
              "  </style>\n",
              "\n",
              "      <script>\n",
              "        const buttonEl =\n",
              "          document.querySelector('#df-3f464306-db66-47bd-9cf1-7ab061f2f4cc button.colab-df-convert');\n",
              "        buttonEl.style.display =\n",
              "          google.colab.kernel.accessAllowed ? 'block' : 'none';\n",
              "\n",
              "        async function convertToInteractive(key) {\n",
              "          const element = document.querySelector('#df-3f464306-db66-47bd-9cf1-7ab061f2f4cc');\n",
              "          const dataTable =\n",
              "            await google.colab.kernel.invokeFunction('convertToInteractive',\n",
              "                                                     [key], {});\n",
              "          if (!dataTable) return;\n",
              "\n",
              "          const docLinkHtml = 'Like what you see? Visit the ' +\n",
              "            '<a target=\"_blank\" href=https://colab.research.google.com/notebooks/data_table.ipynb>data table notebook</a>'\n",
              "            + ' to learn more about interactive tables.';\n",
              "          element.innerHTML = '';\n",
              "          dataTable['output_type'] = 'display_data';\n",
              "          await google.colab.output.renderOutput(dataTable, element);\n",
              "          const docLink = document.createElement('div');\n",
              "          docLink.innerHTML = docLinkHtml;\n",
              "          element.appendChild(docLink);\n",
              "        }\n",
              "      </script>\n",
              "    </div>\n",
              "  </div>\n",
              "  "
            ]
          },
          "metadata": {},
          "execution_count": 7
        }
      ],
      "source": [
        "pd_movies.head(5)"
      ]
    },
    {
      "cell_type": "code",
      "execution_count": 8,
      "metadata": {
        "colab": {
          "base_uri": "https://localhost:8080/"
        },
        "id": "7paPk0u-j4dD",
        "outputId": "282fc864-1d73-44fe-aad9-04a1c723d0d9"
      },
      "outputs": [
        {
          "output_type": "stream",
          "name": "stdout",
          "text": [
            "Shape of the metadata: (9742, 3).\n"
          ]
        }
      ],
      "source": [
        "print(f\"Shape of the metadata: {pd_movies.shape}.\")"
      ]
    },
    {
      "cell_type": "code",
      "execution_count": 9,
      "metadata": {
        "id": "nauo-15bkXgV"
      },
      "outputs": [],
      "source": [
        "ratings = pd_ratings.merge(pd_movies.loc[:, ['title', 'movieId', 'genres']], left_on='movieId', right_on='movieId')"
      ]
    },
    {
      "cell_type": "code",
      "execution_count": 10,
      "metadata": {
        "colab": {
          "base_uri": "https://localhost:8080/",
          "height": 206
        },
        "id": "YrSfmCvYle2P",
        "outputId": "5cd43a8e-7a14-4f45-a6fc-9d23ed3b617d"
      },
      "outputs": [
        {
          "output_type": "execute_result",
          "data": {
            "text/plain": [
              "   userId  movieId  rating             title  \\\n",
              "0       1        1     4.0  Toy Story (1995)   \n",
              "1       5        1     4.0  Toy Story (1995)   \n",
              "2       7        1     4.5  Toy Story (1995)   \n",
              "3      15        1     2.5  Toy Story (1995)   \n",
              "4      17        1     4.5  Toy Story (1995)   \n",
              "\n",
              "                                        genres  \n",
              "0  Adventure|Animation|Children|Comedy|Fantasy  \n",
              "1  Adventure|Animation|Children|Comedy|Fantasy  \n",
              "2  Adventure|Animation|Children|Comedy|Fantasy  \n",
              "3  Adventure|Animation|Children|Comedy|Fantasy  \n",
              "4  Adventure|Animation|Children|Comedy|Fantasy  "
            ],
            "text/html": [
              "\n",
              "  <div id=\"df-996cff64-627b-44f3-8075-8e89d1b442e3\">\n",
              "    <div class=\"colab-df-container\">\n",
              "      <div>\n",
              "<style scoped>\n",
              "    .dataframe tbody tr th:only-of-type {\n",
              "        vertical-align: middle;\n",
              "    }\n",
              "\n",
              "    .dataframe tbody tr th {\n",
              "        vertical-align: top;\n",
              "    }\n",
              "\n",
              "    .dataframe thead th {\n",
              "        text-align: right;\n",
              "    }\n",
              "</style>\n",
              "<table border=\"1\" class=\"dataframe\">\n",
              "  <thead>\n",
              "    <tr style=\"text-align: right;\">\n",
              "      <th></th>\n",
              "      <th>userId</th>\n",
              "      <th>movieId</th>\n",
              "      <th>rating</th>\n",
              "      <th>title</th>\n",
              "      <th>genres</th>\n",
              "    </tr>\n",
              "  </thead>\n",
              "  <tbody>\n",
              "    <tr>\n",
              "      <th>0</th>\n",
              "      <td>1</td>\n",
              "      <td>1</td>\n",
              "      <td>4.0</td>\n",
              "      <td>Toy Story (1995)</td>\n",
              "      <td>Adventure|Animation|Children|Comedy|Fantasy</td>\n",
              "    </tr>\n",
              "    <tr>\n",
              "      <th>1</th>\n",
              "      <td>5</td>\n",
              "      <td>1</td>\n",
              "      <td>4.0</td>\n",
              "      <td>Toy Story (1995)</td>\n",
              "      <td>Adventure|Animation|Children|Comedy|Fantasy</td>\n",
              "    </tr>\n",
              "    <tr>\n",
              "      <th>2</th>\n",
              "      <td>7</td>\n",
              "      <td>1</td>\n",
              "      <td>4.5</td>\n",
              "      <td>Toy Story (1995)</td>\n",
              "      <td>Adventure|Animation|Children|Comedy|Fantasy</td>\n",
              "    </tr>\n",
              "    <tr>\n",
              "      <th>3</th>\n",
              "      <td>15</td>\n",
              "      <td>1</td>\n",
              "      <td>2.5</td>\n",
              "      <td>Toy Story (1995)</td>\n",
              "      <td>Adventure|Animation|Children|Comedy|Fantasy</td>\n",
              "    </tr>\n",
              "    <tr>\n",
              "      <th>4</th>\n",
              "      <td>17</td>\n",
              "      <td>1</td>\n",
              "      <td>4.5</td>\n",
              "      <td>Toy Story (1995)</td>\n",
              "      <td>Adventure|Animation|Children|Comedy|Fantasy</td>\n",
              "    </tr>\n",
              "  </tbody>\n",
              "</table>\n",
              "</div>\n",
              "      <button class=\"colab-df-convert\" onclick=\"convertToInteractive('df-996cff64-627b-44f3-8075-8e89d1b442e3')\"\n",
              "              title=\"Convert this dataframe to an interactive table.\"\n",
              "              style=\"display:none;\">\n",
              "        \n",
              "  <svg xmlns=\"http://www.w3.org/2000/svg\" height=\"24px\"viewBox=\"0 0 24 24\"\n",
              "       width=\"24px\">\n",
              "    <path d=\"M0 0h24v24H0V0z\" fill=\"none\"/>\n",
              "    <path d=\"M18.56 5.44l.94 2.06.94-2.06 2.06-.94-2.06-.94-.94-2.06-.94 2.06-2.06.94zm-11 1L8.5 8.5l.94-2.06 2.06-.94-2.06-.94L8.5 2.5l-.94 2.06-2.06.94zm10 10l.94 2.06.94-2.06 2.06-.94-2.06-.94-.94-2.06-.94 2.06-2.06.94z\"/><path d=\"M17.41 7.96l-1.37-1.37c-.4-.4-.92-.59-1.43-.59-.52 0-1.04.2-1.43.59L10.3 9.45l-7.72 7.72c-.78.78-.78 2.05 0 2.83L4 21.41c.39.39.9.59 1.41.59.51 0 1.02-.2 1.41-.59l7.78-7.78 2.81-2.81c.8-.78.8-2.07 0-2.86zM5.41 20L4 18.59l7.72-7.72 1.47 1.35L5.41 20z\"/>\n",
              "  </svg>\n",
              "      </button>\n",
              "      \n",
              "  <style>\n",
              "    .colab-df-container {\n",
              "      display:flex;\n",
              "      flex-wrap:wrap;\n",
              "      gap: 12px;\n",
              "    }\n",
              "\n",
              "    .colab-df-convert {\n",
              "      background-color: #E8F0FE;\n",
              "      border: none;\n",
              "      border-radius: 50%;\n",
              "      cursor: pointer;\n",
              "      display: none;\n",
              "      fill: #1967D2;\n",
              "      height: 32px;\n",
              "      padding: 0 0 0 0;\n",
              "      width: 32px;\n",
              "    }\n",
              "\n",
              "    .colab-df-convert:hover {\n",
              "      background-color: #E2EBFA;\n",
              "      box-shadow: 0px 1px 2px rgba(60, 64, 67, 0.3), 0px 1px 3px 1px rgba(60, 64, 67, 0.15);\n",
              "      fill: #174EA6;\n",
              "    }\n",
              "\n",
              "    [theme=dark] .colab-df-convert {\n",
              "      background-color: #3B4455;\n",
              "      fill: #D2E3FC;\n",
              "    }\n",
              "\n",
              "    [theme=dark] .colab-df-convert:hover {\n",
              "      background-color: #434B5C;\n",
              "      box-shadow: 0px 1px 3px 1px rgba(0, 0, 0, 0.15);\n",
              "      filter: drop-shadow(0px 1px 2px rgba(0, 0, 0, 0.3));\n",
              "      fill: #FFFFFF;\n",
              "    }\n",
              "  </style>\n",
              "\n",
              "      <script>\n",
              "        const buttonEl =\n",
              "          document.querySelector('#df-996cff64-627b-44f3-8075-8e89d1b442e3 button.colab-df-convert');\n",
              "        buttonEl.style.display =\n",
              "          google.colab.kernel.accessAllowed ? 'block' : 'none';\n",
              "\n",
              "        async function convertToInteractive(key) {\n",
              "          const element = document.querySelector('#df-996cff64-627b-44f3-8075-8e89d1b442e3');\n",
              "          const dataTable =\n",
              "            await google.colab.kernel.invokeFunction('convertToInteractive',\n",
              "                                                     [key], {});\n",
              "          if (!dataTable) return;\n",
              "\n",
              "          const docLinkHtml = 'Like what you see? Visit the ' +\n",
              "            '<a target=\"_blank\" href=https://colab.research.google.com/notebooks/data_table.ipynb>data table notebook</a>'\n",
              "            + ' to learn more about interactive tables.';\n",
              "          element.innerHTML = '';\n",
              "          dataTable['output_type'] = 'display_data';\n",
              "          await google.colab.output.renderOutput(dataTable, element);\n",
              "          const docLink = document.createElement('div');\n",
              "          docLink.innerHTML = docLinkHtml;\n",
              "          element.appendChild(docLink);\n",
              "        }\n",
              "      </script>\n",
              "    </div>\n",
              "  </div>\n",
              "  "
            ]
          },
          "metadata": {},
          "execution_count": 10
        }
      ],
      "source": [
        "ratings.head(5)"
      ]
    },
    {
      "cell_type": "code",
      "execution_count": 11,
      "metadata": {
        "colab": {
          "base_uri": "https://localhost:8080/"
        },
        "id": "RvbfUp7LmA3c",
        "outputId": "0add6d1e-f375-4fd4-b625-10d1b4b00802"
      },
      "outputs": [
        {
          "output_type": "stream",
          "name": "stdout",
          "text": [
            "Shape of the complete data: (100836, 5).\n"
          ]
        }
      ],
      "source": [
        "print(f\"Shape of the complete data: {ratings.shape}.\")"
      ]
    },
    {
      "cell_type": "markdown",
      "metadata": {
        "id": "1410iBhXWl3D"
      },
      "source": [
        "# Data Pre-Processing"
      ]
    },
    {
      "cell_type": "markdown",
      "metadata": {
        "id": "6kelatVhmT8z"
      },
      "source": [
        "To understand well the distribution of the data, the following statistics are computed"
      ]
    },
    {
      "cell_type": "code",
      "execution_count": 16,
      "metadata": {
        "colab": {
          "base_uri": "https://localhost:8080/"
        },
        "id": "I2D6iQS4mUm6",
        "outputId": "b0fc0348-39df-4a55-d2b8-9030f1d319f0"
      },
      "outputs": [
        {
          "output_type": "stream",
          "name": "stdout",
          "text": [
            "Number of unique users: 610.\n"
          ]
        }
      ],
      "source": [
        "print(f\"Number of unique users: {ratings['userId'].unique().size}.\")"
      ]
    },
    {
      "cell_type": "code",
      "execution_count": 17,
      "metadata": {
        "colab": {
          "base_uri": "https://localhost:8080/"
        },
        "id": "GJ7wKl4omhUz",
        "outputId": "47748af9-cde0-4064-efa2-5593b5bcc72c"
      },
      "outputs": [
        {
          "output_type": "stream",
          "name": "stdout",
          "text": [
            "Number of unique movies: 9724.\n"
          ]
        }
      ],
      "source": [
        "print(f\"Number of unique movies: {ratings['movieId'].unique().size}.\")"
      ]
    },
    {
      "cell_type": "code",
      "execution_count": 18,
      "metadata": {
        "colab": {
          "base_uri": "https://localhost:8080/",
          "height": 265
        },
        "id": "EBNmajnNmpQc",
        "outputId": "17fe2f3e-996f-47eb-9b88-008dcf37f050"
      },
      "outputs": [
        {
          "output_type": "display_data",
          "data": {
            "text/plain": [
              "<Figure size 432x288 with 1 Axes>"
            ],
            "image/png": "[encoded data removed]"
          },
          "metadata": {
            "needs_background": "light"
          }
        }
      ],
      "source": [
        "# Histogram of the ratings\n",
        "x, height = np.unique(ratings['rating'], return_counts=True)\n",
        "\n",
        "fig, ax = plt.subplots()\n",
        "ax.bar(x, height, align='center', width=0.4)\n",
        "ax.set(xticks=np.arange(-1, 6), xlim=[-0.5, 5.5])\n",
        "plt.show()"
      ]
    },
    {
      "cell_type": "code",
      "execution_count": 19,
      "metadata": {
        "id": "RDJlJ9-2pvTm"
      },
      "outputs": [],
      "source": [
        "# Count the number of ratings for each movie\n",
        "popularity = ratings.groupby('movieId').size().reset_index(name='popularity')\n",
        "pd_movies = pd_movies.merge(popularity, left_on='movieId', right_on='movieId')"
      ]
    },
    {
      "cell_type": "markdown",
      "metadata": {
        "id": "2rj1QgExqeL6"
      },
      "source": [
        "## Speed-up the computation"
      ]
    },
    {
      "cell_type": "markdown",
      "metadata": {
        "id": "I5qpEymgqjKA"
      },
      "source": [
        "Get the most popular ones (more than  X  ratings)"
      ]
    },
    {
      "cell_type": "code",
      "execution_count": 23,
      "metadata": {
        "id": "UNq0E5raspXB"
      },
      "outputs": [],
      "source": [
        "X = 50"
      ]
    },
    {
      "cell_type": "code",
      "execution_count": 24,
      "metadata": {
        "id": "JHTf9KFzqYai"
      },
      "outputs": [],
      "source": [
        "# Get most popular movieId\n",
        "pd_movies_new = pd_movies.loc[(pd_movies['popularity'] > X)]"
      ]
    },
    {
      "cell_type": "code",
      "execution_count": 25,
      "metadata": {
        "id": "xUofAqplrGIO"
      },
      "outputs": [],
      "source": [
        "# Create a dataframe for movieId\n",
        "pd_movies_new = pd_movies_new.assign(newMovieId=pd.Series(np.arange(pd_movies_new.shape[0])).values)\n",
        "pd_movies_new_indexed = pd_movies_new.set_index('newMovieId')"
      ]
    },
    {
      "cell_type": "code",
      "execution_count": 26,
      "metadata": {
        "id": "ivXIsXVcrUUG"
      },
      "outputs": [],
      "source": [
        "# Merge the dataframe\n",
        "ratings = ratings.merge(pd_movies_new.loc[:, ['movieId', 'newMovieId', 'popularity']], left_on='movieId', right_on='movieId')"
      ]
    },
    {
      "cell_type": "code",
      "execution_count": 27,
      "metadata": {
        "id": "qU7szrGqr7Po"
      },
      "outputs": [],
      "source": [
        "# Create a dataframe for userId\n",
        "user = pd.DataFrame({'userId': np.unique(ratings['userId'])})\n",
        "user = user.assign(newUserId=pd.Series(np.arange(user.shape[0])).values)"
      ]
    },
    {
      "cell_type": "code",
      "execution_count": 28,
      "metadata": {
        "id": "_T_o-TrLsDap"
      },
      "outputs": [],
      "source": [
        "# Merge the dataframe\n",
        "ratings = ratings.merge(user, left_on='userId', right_on='userId')"
      ]
    },
    {
      "cell_type": "code",
      "execution_count": 29,
      "metadata": {
        "colab": {
          "base_uri": "https://localhost:8080/",
          "height": 206
        },
        "id": "6SjbAZolsG4I",
        "outputId": "0ea79d7b-34cf-4e7d-f760-422c8b087d5d"
      },
      "outputs": [
        {
          "output_type": "execute_result",
          "data": {
            "text/plain": [
              "   userId  movieId  rating                        title  \\\n",
              "0       1        1     4.0             Toy Story (1995)   \n",
              "1       1        3     4.0      Grumpier Old Men (1995)   \n",
              "2       1        6     4.0                  Heat (1995)   \n",
              "3       1       47     5.0  Seven (a.k.a. Se7en) (1995)   \n",
              "4       1       50     5.0   Usual Suspects, The (1995)   \n",
              "\n",
              "                                        genres  newMovieId  popularity  \\\n",
              "0  Adventure|Animation|Children|Comedy|Fantasy           0         215   \n",
              "1                               Comedy|Romance           2          52   \n",
              "2                        Action|Crime|Thriller           3         102   \n",
              "3                             Mystery|Thriller          16         203   \n",
              "4                       Crime|Mystery|Thriller          18         204   \n",
              "\n",
              "   newUserId  \n",
              "0          0  \n",
              "1          0  \n",
              "2          0  \n",
              "3          0  \n",
              "4          0  "
            ],
            "text/html": [
              "\n",
              "  <div id=\"df-70008653-7cc2-4f6e-b2ec-5605cedb9470\">\n",
              "    <div class=\"colab-df-container\">\n",
              "      <div>\n",
              "<style scoped>\n",
              "    .dataframe tbody tr th:only-of-type {\n",
              "        vertical-align: middle;\n",
              "    }\n",
              "\n",
              "    .dataframe tbody tr th {\n",
              "        vertical-align: top;\n",
              "    }\n",
              "\n",
              "    .dataframe thead th {\n",
              "        text-align: right;\n",
              "    }\n",
              "</style>\n",
              "<table border=\"1\" class=\"dataframe\">\n",
              "  <thead>\n",
              "    <tr style=\"text-align: right;\">\n",
              "      <th></th>\n",
              "      <th>userId</th>\n",
              "      <th>movieId</th>\n",
              "      <th>rating</th>\n",
              "      <th>title</th>\n",
              "      <th>genres</th>\n",
              "      <th>newMovieId</th>\n",
              "      <th>popularity</th>\n",
              "      <th>newUserId</th>\n",
              "    </tr>\n",
              "  </thead>\n",
              "  <tbody>\n",
              "    <tr>\n",
              "      <th>0</th>\n",
              "      <td>1</td>\n",
              "      <td>1</td>\n",
              "      <td>4.0</td>\n",
              "      <td>Toy Story (1995)</td>\n",
              "      <td>Adventure|Animation|Children|Comedy|Fantasy</td>\n",
              "      <td>0</td>\n",
              "      <td>215</td>\n",
              "      <td>0</td>\n",
              "    </tr>\n",
              "    <tr>\n",
              "      <th>1</th>\n",
              "      <td>1</td>\n",
              "      <td>3</td>\n",
              "      <td>4.0</td>\n",
              "      <td>Grumpier Old Men (1995)</td>\n",
              "      <td>Comedy|Romance</td>\n",
              "      <td>2</td>\n",
              "      <td>52</td>\n",
              "      <td>0</td>\n",
              "    </tr>\n",
              "    <tr>\n",
              "      <th>2</th>\n",
              "      <td>1</td>\n",
              "      <td>6</td>\n",
              "      <td>4.0</td>\n",
              "      <td>Heat (1995)</td>\n",
              "      <td>Action|Crime|Thriller</td>\n",
              "      <td>3</td>\n",
              "      <td>102</td>\n",
              "      <td>0</td>\n",
              "    </tr>\n",
              "    <tr>\n",
              "      <th>3</th>\n",
              "      <td>1</td>\n",
              "      <td>47</td>\n",
              "      <td>5.0</td>\n",
              "      <td>Seven (a.k.a. Se7en) (1995)</td>\n",
              "      <td>Mystery|Thriller</td>\n",
              "      <td>16</td>\n",
              "      <td>203</td>\n",
              "      <td>0</td>\n",
              "    </tr>\n",
              "    <tr>\n",
              "      <th>4</th>\n",
              "      <td>1</td>\n",
              "      <td>50</td>\n",
              "      <td>5.0</td>\n",
              "      <td>Usual Suspects, The (1995)</td>\n",
              "      <td>Crime|Mystery|Thriller</td>\n",
              "      <td>18</td>\n",
              "      <td>204</td>\n",
              "      <td>0</td>\n",
              "    </tr>\n",
              "  </tbody>\n",
              "</table>\n",
              "</div>\n",
              "      <button class=\"colab-df-convert\" onclick=\"convertToInteractive('df-70008653-7cc2-4f6e-b2ec-5605cedb9470')\"\n",
              "              title=\"Convert this dataframe to an interactive table.\"\n",
              "              style=\"display:none;\">\n",
              "        \n",
              "  <svg xmlns=\"http://www.w3.org/2000/svg\" height=\"24px\"viewBox=\"0 0 24 24\"\n",
              "       width=\"24px\">\n",
              "    <path d=\"M0 0h24v24H0V0z\" fill=\"none\"/>\n",
              "    <path d=\"M18.56 5.44l.94 2.06.94-2.06 2.06-.94-2.06-.94-.94-2.06-.94 2.06-2.06.94zm-11 1L8.5 8.5l.94-2.06 2.06-.94-2.06-.94L8.5 2.5l-.94 2.06-2.06.94zm10 10l.94 2.06.94-2.06 2.06-.94-2.06-.94-.94-2.06-.94 2.06-2.06.94z\"/><path d=\"M17.41 7.96l-1.37-1.37c-.4-.4-.92-.59-1.43-.59-.52 0-1.04.2-1.43.59L10.3 9.45l-7.72 7.72c-.78.78-.78 2.05 0 2.83L4 21.41c.39.39.9.59 1.41.59.51 0 1.02-.2 1.41-.59l7.78-7.78 2.81-2.81c.8-.78.8-2.07 0-2.86zM5.41 20L4 18.59l7.72-7.72 1.47 1.35L5.41 20z\"/>\n",
              "  </svg>\n",
              "      </button>\n",
              "      \n",
              "  <style>\n",
              "    .colab-df-container {\n",
              "      display:flex;\n",
              "      flex-wrap:wrap;\n",
              "      gap: 12px;\n",
              "    }\n",
              "\n",
              "    .colab-df-convert {\n",
              "      background-color: #E8F0FE;\n",
              "      border: none;\n",
              "      border-radius: 50%;\n",
              "      cursor: pointer;\n",
              "      display: none;\n",
              "      fill: #1967D2;\n",
              "      height: 32px;\n",
              "      padding: 0 0 0 0;\n",
              "      width: 32px;\n",
              "    }\n",
              "\n",
              "    .colab-df-convert:hover {\n",
              "      background-color: #E2EBFA;\n",
              "      box-shadow: 0px 1px 2px rgba(60, 64, 67, 0.3), 0px 1px 3px 1px rgba(60, 64, 67, 0.15);\n",
              "      fill: #174EA6;\n",
              "    }\n",
              "\n",
              "    [theme=dark] .colab-df-convert {\n",
              "      background-color: #3B4455;\n",
              "      fill: #D2E3FC;\n",
              "    }\n",
              "\n",
              "    [theme=dark] .colab-df-convert:hover {\n",
              "      background-color: #434B5C;\n",
              "      box-shadow: 0px 1px 3px 1px rgba(0, 0, 0, 0.15);\n",
              "      filter: drop-shadow(0px 1px 2px rgba(0, 0, 0, 0.3));\n",
              "      fill: #FFFFFF;\n",
              "    }\n",
              "  </style>\n",
              "\n",
              "      <script>\n",
              "        const buttonEl =\n",
              "          document.querySelector('#df-70008653-7cc2-4f6e-b2ec-5605cedb9470 button.colab-df-convert');\n",
              "        buttonEl.style.display =\n",
              "          google.colab.kernel.accessAllowed ? 'block' : 'none';\n",
              "\n",
              "        async function convertToInteractive(key) {\n",
              "          const element = document.querySelector('#df-70008653-7cc2-4f6e-b2ec-5605cedb9470');\n",
              "          const dataTable =\n",
              "            await google.colab.kernel.invokeFunction('convertToInteractive',\n",
              "                                                     [key], {});\n",
              "          if (!dataTable) return;\n",
              "\n",
              "          const docLinkHtml = 'Like what you see? Visit the ' +\n",
              "            '<a target=\"_blank\" href=https://colab.research.google.com/notebooks/data_table.ipynb>data table notebook</a>'\n",
              "            + ' to learn more about interactive tables.';\n",
              "          element.innerHTML = '';\n",
              "          dataTable['output_type'] = 'display_data';\n",
              "          await google.colab.output.renderOutput(dataTable, element);\n",
              "          const docLink = document.createElement('div');\n",
              "          docLink.innerHTML = docLinkHtml;\n",
              "          element.appendChild(docLink);\n",
              "        }\n",
              "      </script>\n",
              "    </div>\n",
              "  </div>\n",
              "  "
            ]
          },
          "metadata": {},
          "execution_count": 29
        }
      ],
      "source": [
        "ratings.head(5)"
      ]
    },
    {
      "cell_type": "code",
      "execution_count": 30,
      "metadata": {
        "colab": {
          "base_uri": "https://localhost:8080/"
        },
        "id": "re4q-iiTs_Er",
        "outputId": "cf160e23-f78f-41a3-e72a-e95a00cfa155"
      },
      "outputs": [
        {
          "output_type": "stream",
          "name": "stdout",
          "text": [
            "Shape of the rating dataset: (40660, 8).\n"
          ]
        }
      ],
      "source": [
        "print(f'Shape of the rating dataset: {ratings.shape}.')"
      ]
    },
    {
      "cell_type": "code",
      "execution_count": 31,
      "metadata": {
        "id": "YMMdafRGtIqm"
      },
      "outputs": [],
      "source": [
        "MAX_USER_ID = ratings['newUserId'].max()\n",
        "MAX_ITEM_ID = ratings['newMovieId'].max()\n",
        "\n",
        "N_USERS = MAX_USER_ID + 1\n",
        "N_ITEMS = MAX_ITEM_ID + 1"
      ]
    },
    {
      "cell_type": "code",
      "execution_count": 32,
      "metadata": {
        "colab": {
          "base_uri": "https://localhost:8080/"
        },
        "id": "0ykF9RXitRKL",
        "outputId": "31b1dabe-cbe1-4d4d-f805-be3200d639f6"
      },
      "outputs": [
        {
          "output_type": "stream",
          "name": "stdout",
          "text": [
            "Number of users: 606 / Number of movies: 436\n"
          ]
        }
      ],
      "source": [
        "print(f'Number of users: {N_USERS} / Number of movies: {N_ITEMS}')"
      ]
    },
    {
      "cell_type": "markdown",
      "metadata": {
        "id": "OhgM2Qd3taG1"
      },
      "source": [
        "## Split the dataset into train/test sets"
      ]
    },
    {
      "cell_type": "code",
      "execution_count": 33,
      "metadata": {
        "id": "42WVI_dBtbhj"
      },
      "outputs": [],
      "source": [
        "train, test = train_test_split(ratings, test_size=0.2, random_state=42)\n",
        "\n",
        "user_id_train = np.array(train['newUserId'])\n",
        "movie_id_train = np.array(train['newMovieId'])\n",
        "ratings_train = np.array(train['rating'])\n",
        "\n",
        "user_id_test = np.array(test['newUserId'])\n",
        "movie_id_test = np.array(test['newMovieId'])\n",
        "ratings_test = np.array(test['rating'])"
      ]
    },
    {
      "cell_type": "code",
      "execution_count": 34,
      "metadata": {
        "id": "Y2FqlYvmuVbU"
      },
      "outputs": [],
      "source": [
        "train_pos = train.query('rating > 3.5')\n",
        "test_pos = test.query('rating > 3.5')"
      ]
    },
    {
      "cell_type": "markdown",
      "metadata": {
        "id": "A0zD3Nrguked"
      },
      "source": [
        "## Triplet Loss"
      ]
    },
    {
      "cell_type": "code",
      "execution_count": 35,
      "metadata": {
        "id": "mXgZdh5Mum_r"
      },
      "outputs": [],
      "source": [
        "def identity_loss(y_true, y_pred):\n",
        "    \"\"\"Ignore y_true and return the mean of y_pred.\n",
        "    This is a hack to work-around the design of the Keras API that is\n",
        "    not really suited to train networks with a triplet loss by default.\n",
        "    \"\"\"\n",
        "    return K.mean(y_pred) # y_pred - 0 * y_true\n",
        "\n",
        "class MarginLoss(layers.Layer):\n",
        "    \"\"\"Define the loss for the triple architecture\n",
        "    \n",
        "    Parameters\n",
        "    ----------\n",
        "    margin: float, default=1.\n",
        "        Define a margin (alpha)\n",
        "    \"\"\"\n",
        "    def __init__(self, margin=1.):\n",
        "        super().__init__()\n",
        "        self.margin = margin\n",
        "        \n",
        "    def call(self, inputs):\n",
        "        pos_pair_similarity = inputs[0]\n",
        "        neg_pair_similarity = inputs[1]\n",
        "        \n",
        "        diff = neg_pair_similarity - pos_pair_similarity\n",
        "        return K.maximum(diff + self.margin, 0)"
      ]
    },
    {
      "cell_type": "code",
      "execution_count": 36,
      "metadata": {
        "id": "d3-7zOdNURwG"
      },
      "outputs": [],
      "source": [
        "def recall_and_precission_at_k(model, data_train, data_test, k):\n",
        "    \"\"\"Compute the ROC AUC for each user and average over users.\n",
        "    \n",
        "    Parameters\n",
        "    ----------\n",
        "    model: MatchModel\n",
        "        A MatchModel to train\n",
        "    data_train: numpy array\n",
        "        Train set\n",
        "    data_test: numpy array\n",
        "        Test set\n",
        "        \n",
        "    Return\n",
        "    ------\n",
        "    Average ROC AUC scores across users\n",
        "    \"\"\"\n",
        "    max_user_id = max(data_train['newUserId'].max(),\n",
        "                      data_test['newUserId'].max())\n",
        "    max_movie_id = max(data_train['newMovieId'].max(),\n",
        "                       data_test['newMovieId'].max())\n",
        "    \n",
        "    sum_recall_list = []\n",
        "    sum_precission_list = []\n",
        "\n",
        "    for user_id in range(0, max_user_id + 1):\n",
        "        pos_item_train = data_train[data_train['newUserId'] == user_id]\n",
        "        pos_item_test = data_test[data_test['newUserId'] == user_id]\n",
        "        \n",
        "        # Consider all the items already seen in the training set\n",
        "        all_item_idx = np.arange(1, max_movie_id + 1)\n",
        "        items_to_rank = np.setdiff1d(all_item_idx,\n",
        "                                     pos_item_train['newMovieId'].values)\n",
        "        \n",
        "        # Ground truth: return 1 for each item positively present in\n",
        "        # the test set and 0 otherwise\n",
        "        expected = np.in1d(items_to_rank,\n",
        "                           pos_item_test['newMovieId'].values)\n",
        "        \n",
        "        # At least one positive test value to rank\n",
        "        if np.sum(expected) >= 1:\n",
        "            repeated_user_id = np.empty_like(items_to_rank)\n",
        "            repeated_user_id.fill(user_id)\n",
        "            \n",
        "            # Make prediction\n",
        "            predicted = model.predict([repeated_user_id, items_to_rank], verbose = 0)\n",
        "    \n",
        "            # # Compute Rel@k/Rel\n",
        "            predicted = predicted.flatten()\n",
        "            indexes = np.argsort(predicted)\n",
        "            top_index = indexes[-k:]\n",
        "            rel = sum(expected)\n",
        "            top_expected = expected[top_index]\n",
        "            rel_at_k = sum(top_expected)\n",
        "\n",
        "            sum_recall_list.append(rel_at_k / rel)\n",
        "\n",
        "            # Compute Rel@k\n",
        "            sum_precission_list.append(rel_at_k / k)\n",
        "        \n",
        "    return sum(sum_recall_list) / len(sum_recall_list), sum(sum_precission_list) / len(sum_precission_list)"
      ]
    },
    {
      "cell_type": "code",
      "source": [
        "def sample_triplets(pos_data, max_item_id, random_seed=0):\n",
        "    \"\"\"Sample negative items ar random\n",
        "    \n",
        "    Parameters\n",
        "    ----------\n",
        "    pos_data: pd.DataFrame\n",
        "        Dataframe of positive items\n",
        "    max_item_id: integer\n",
        "        Number of items in the complete dataframe\n",
        "    random_seed: integer, default=0\n",
        "        Random number generation\n",
        "    \n",
        "    Return\n",
        "    ------\n",
        "    A list with entries user_ids, pos_items_ids and neg_items_ids\n",
        "    \"\"\"\n",
        "    rng = np.random.RandomState(random_seed)\n",
        "    \n",
        "    user_ids = pos_data['newUserId'].values.astype('int64')\n",
        "    pos_item_ids = pos_data['newMovieId'].values.astype('int64')\n",
        "    neg_item_ids = rng.randint(low=1, \n",
        "                               high=max_item_id + 1, \n",
        "                               size=len(user_ids), dtype='int64')\n",
        "    return [user_ids, pos_item_ids, neg_item_ids]"
      ],
      "metadata": {
        "id": "G4Zg8TxQkOSn"
      },
      "execution_count": 42,
      "outputs": []
    },
    {
      "cell_type": "markdown",
      "metadata": {
        "id": "atyorhZ0G15F"
      },
      "source": [
        "# Training a Deep Matching Model on Implicit Feedback"
      ]
    },
    {
      "cell_type": "code",
      "execution_count": 38,
      "metadata": {
        "id": "W4gYaspFHNQq"
      },
      "outputs": [],
      "source": [
        "class MLP(layers.Layer):\n",
        "    \"\"\"Define the MLP layer for the triplet architecture\n",
        "    \n",
        "    Parameters\n",
        "    ----------\n",
        "    n_hidden: Integer, default=1\n",
        "        Number of hidden layer\n",
        "    hidden_size: list of size `n_hidden`\n",
        "        Output size of the hidden layer\n",
        "    p_dropout: float, default=0.\n",
        "        Probability for the Dropout layer\n",
        "    l2_reg: float, default=None\n",
        "        Regularizer\n",
        "        \n",
        "    Argument\n",
        "    --------\n",
        "    layers: list of Layer\n",
        "        The different layers used in the MLP\n",
        "    \"\"\"\n",
        "    def __init__(self, n_hidden=1, hidden_size=[64], p_dropout=0., l2_reg=None):\n",
        "        super().__init__()\n",
        "        \n",
        "        self.layers = [Dropout(p_dropout)]\n",
        "        \n",
        "        for i in range(n_hidden):\n",
        "            self.layers.append(Dense(hidden_size[i], \n",
        "                                     activation='relu', \n",
        "                                     kernel_regularizer=l2_reg))\n",
        "            self.layers.append(Dropout(p_dropout))\n",
        "        \n",
        "        self.layers.append(Dense(1, \n",
        "                                 activation='relu', \n",
        "                                 kernel_regularizer=l2_reg))\n",
        "        \n",
        "    def call(self, x, training=False):\n",
        "        for layer in self.layers:\n",
        "            if isinstance(layer, Dropout):\n",
        "                x = layer(x, training=training)\n",
        "            else:\n",
        "                x = layer(x)\n",
        "        return x\n",
        "    \n",
        "    \n",
        "class DeepTripletModel(Model):\n",
        "    \"\"\"Define the triplet model architecture\n",
        "    \n",
        "    Parameters\n",
        "    ----------\n",
        "    embedding_size_user: integer\n",
        "        Size of the embedding vector for the user\n",
        "    embedding_size_item: integer\n",
        "        Size of the embedding vector for the item\n",
        "    n_users: integer\n",
        "        Number of user in the dataset\n",
        "    n_items: integer\n",
        "        Number of item in the dataset\n",
        "    n_hidden: Integer, default=1\n",
        "        Number of hidden layer\n",
        "    hidden_size: list of size `n_hidden`\n",
        "        Output size of the hidden layer\n",
        "    l2_reg: float or None\n",
        "        Quantity of regularization\n",
        "    margin: float\n",
        "        Margin for the loss\n",
        "    p_dropout: float, default=0.\n",
        "        Probability for the Dropout layer\n",
        "        \n",
        "    Arguments\n",
        "    ---------\n",
        "    margin: float\n",
        "        Margin for the loss\n",
        "    user_embedding: Embedding\n",
        "        Embedding layer of user \n",
        "    item_embedding: Embedding\n",
        "        Embedding layer of item\n",
        "    flatten: Flatten\n",
        "        Flatten layer\n",
        "    concat: Concetenate\n",
        "        Concatenate layer\n",
        "    mlp: MLP\n",
        "        MLP layer\n",
        "    margin_loss: MarginLoss\n",
        "        Loss layer\n",
        "    \"\"\"\n",
        "    def __init__(self, n_users, n_items, \n",
        "                 embedding_size_user=64, embedding_size_item=64, \n",
        "                 n_hidden=1, hidden_size=[64], \n",
        "                 l2_reg=None, margin=1., p_dropout=0.):\n",
        "        super().__init__(name='TripletModel')\n",
        "        \n",
        "        # Define hyperparameters\n",
        "        self.margin = margin\n",
        "        l2_reg = None if l2_reg == 0 else l2(l2_reg)\n",
        "        \n",
        "        # Define Embedding layers\n",
        "        self.user_embedding = Embedding(output_dim=embedding_size_user,\n",
        "                                        input_dim=n_users,\n",
        "                                        input_length=1,\n",
        "                                        input_shape=(1,),\n",
        "                                        name='user_embedding',\n",
        "                                        embeddings_regularizer=l2_reg)\n",
        "        # The following embedding parameters will be shared to encode\n",
        "        # both the positive and negative items.\n",
        "        self.item_embedding = Embedding(output_dim=embedding_size_item,\n",
        "                                        input_dim=n_items,\n",
        "                                        input_length=1,\n",
        "                                        name='item_embedding',\n",
        "                                        embeddings_regularizer=l2_reg)\n",
        "        \n",
        "        # The two following layers are without parameters, and can\n",
        "        # therefore be used for oth potisitve and negative items.\n",
        "        self.flatten = Flatten()\n",
        "        self.concat = Concatenate()\n",
        "        \n",
        "        # Define the MLP\n",
        "        self.mlp = MLP(n_hidden, hidden_size, p_dropout, l2_reg)\n",
        "        \n",
        "        # Define the loss\n",
        "        self.margin_loss = MarginLoss(margin)\n",
        "        \n",
        "    def call(self, inputs, training=False, **kwargs):\n",
        "        \"\"\"\n",
        "        Parameters\n",
        "        ----------\n",
        "        inputs: list with three elements\n",
        "            First element corresponds to the users\n",
        "            Second element corresponds to the positive items\n",
        "            Third element correponds to the negative items\n",
        "        \"\"\"\n",
        "        user_input = inputs[0]\n",
        "        item_pos_input = inputs[1]\n",
        "        item_neg_input = inputs[2]\n",
        "        \n",
        "        # Create embeddings\n",
        "        user_embedding = self.user_embedding(user_input)\n",
        "        user_embedding = self.flatten(user_embedding)\n",
        "        \n",
        "        item_pos_embedding = self.item_embedding(item_pos_input)\n",
        "        item_pos_embedding = self.flatten(item_pos_embedding)\n",
        "\n",
        "        item_neg_embedding = self.item_embedding(item_neg_input)\n",
        "        item_neg_embedding = self.flatten(item_neg_embedding)\n",
        "        \n",
        "        # Concatenate embeddings\n",
        "        pos_embeddings_pair = self.concat([user_embedding, item_pos_embedding])\n",
        "        neg_embeddings_pair = self.concat([user_embedding, item_neg_embedding])\n",
        "        \n",
        "        # Pass trough the MLP\n",
        "        pos_similarity = self.mlp(pos_embeddings_pair)\n",
        "        neg_similarity = self.mlp(neg_embeddings_pair)\n",
        "        \n",
        "        return self.margin_loss([pos_similarity, neg_similarity])\n",
        "\n",
        "    \n",
        "class DeepMatchModel(Model):\n",
        "    \"\"\"Define the triplet model architecture\n",
        "    \n",
        "    Parameters\n",
        "    ----------\n",
        "    user_layer: Embedding\n",
        "        User layer from TripletModel\n",
        "    item_layer: Embedding\n",
        "        Item layer from TripletModel\n",
        "    mlp: MLP\n",
        "        MLP layer from TripletModel\n",
        "\n",
        "    Arguments\n",
        "    ---------\n",
        "    user_embedding: Embedding\n",
        "        Embedding layer of user \n",
        "    item_embedding: Embedding\n",
        "        Embedding layer of item\n",
        "    mlp: MLP\n",
        "        MLP layer\n",
        "    flatten: Flatten\n",
        "        Flatten layer\n",
        "    concat: Concatenate\n",
        "        Concatenate layer\n",
        "    \"\"\"\n",
        "    def __init__(self, user_layer, item_layer, mlp):\n",
        "        super().__init__(name='MatchModel')\n",
        "\n",
        "        # Reuse the layer from the triplet model\n",
        "        self.user_embedding = user_layer\n",
        "        self.item_embedding = item_layer\n",
        "        self.mlp = mlp\n",
        "        \n",
        "        self.flatten = Flatten()\n",
        "        self.concat = Concatenate()\n",
        "        \n",
        "    def call(self, inputs, **kwargs):\n",
        "        \"\"\"\n",
        "        Parameters\n",
        "        ----------\n",
        "        inputs: list with three elements\n",
        "            First element corresponds to the users\n",
        "            Second element corresponds to the positive items\n",
        "        \"\"\"\n",
        "        user_input = inputs[0]\n",
        "        item_pos_input = inputs[1]\n",
        "        \n",
        "        # Create embeddings\n",
        "        user_embedding = self.user_embedding(user_input)\n",
        "        user_embedding = self.flatten(user_embedding)\n",
        "        \n",
        "        item_pos_embedding = self.item_embedding(item_pos_input)\n",
        "        item_pos_embedding = self.flatten(item_pos_embedding)\n",
        "        \n",
        "        pos_embeddings_pair = self.concat([user_embedding, item_pos_embedding])\n",
        "        \n",
        "        # Similarity computation between embeddings\n",
        "        pos_similarity = self.mlp(pos_embeddings_pair)\n",
        "        \n",
        "        return pos_similarity"
      ]
    },
    {
      "cell_type": "code",
      "execution_count": 39,
      "metadata": {
        "id": "PEFVewITHR-L"
      },
      "outputs": [],
      "source": [
        "# Define and train the model\n",
        "HYPER_PARAM = dict( \n",
        "    embedding_size_user=32, \n",
        "    embedding_size_item=64, \n",
        "    n_hidden=1, \n",
        "    hidden_size=[128], \n",
        "    l2_reg=0., \n",
        "    margin=0.5, \n",
        "    p_dropout=0.1)\n",
        "\n",
        "deep_triplet_model = DeepTripletModel(N_USERS, N_ITEMS, **HYPER_PARAM)\n",
        "deep_match_model = DeepMatchModel(deep_triplet_model.user_embedding, \n",
        "                                  deep_triplet_model.item_embedding, \n",
        "                                  deep_triplet_model.mlp)"
      ]
    },
    {
      "cell_type": "code",
      "execution_count": 43,
      "metadata": {
        "id": "q-0EFclPHbf4",
        "colab": {
          "base_uri": "https://localhost:8080/"
        },
        "outputId": "80987abc-d4a3-45c0-8b3c-18fb79d414d2"
      },
      "outputs": [
        {
          "output_type": "stream",
          "name": "stdout",
          "text": [
            "294/294 [==============================] - 2s 3ms/step - loss: 0.4106\n",
            "294/294 [==============================] - 1s 3ms/step - loss: 0.3741\n",
            "294/294 [==============================] - 2s 6ms/step - loss: 0.3672\n",
            "294/294 [==============================] - 1s 3ms/step - loss: 0.3577\n",
            "294/294 [==============================] - 1s 3ms/step - loss: 0.3319\n",
            "294/294 [==============================] - 1s 3ms/step - loss: 0.3092\n",
            "294/294 [==============================] - 1s 3ms/step - loss: 0.2961\n",
            "294/294 [==============================] - 1s 3ms/step - loss: 0.2847\n",
            "294/294 [==============================] - 1s 3ms/step - loss: 0.2790\n",
            "294/294 [==============================] - 1s 3ms/step - loss: 0.2691\n",
            "294/294 [==============================] - 1s 3ms/step - loss: 0.2619\n",
            "294/294 [==============================] - 1s 3ms/step - loss: 0.2576\n",
            "294/294 [==============================] - 1s 3ms/step - loss: 0.2535\n",
            "294/294 [==============================] - 1s 3ms/step - loss: 0.2502\n",
            "294/294 [==============================] - 1s 3ms/step - loss: 0.2478\n",
            "294/294 [==============================] - 1s 3ms/step - loss: 0.2447\n",
            "294/294 [==============================] - 1s 3ms/step - loss: 0.2429\n",
            "294/294 [==============================] - 1s 3ms/step - loss: 0.2367\n",
            "294/294 [==============================] - 1s 3ms/step - loss: 0.2320\n",
            "294/294 [==============================] - 1s 3ms/step - loss: 0.2301\n"
          ]
        }
      ],
      "source": [
        "# Define parameters\n",
        "N_EPOCHS = 20\n",
        "BATCH_SIZE = 64\n",
        "\n",
        "\n",
        "# We plug the identity loss and a fake target variable ignored by \n",
        "# the model to be able to use the Keras API to train the model.\n",
        "fake_y = np.ones_like(train_pos[\"newUserId\"], dtype='int64')\n",
        "deep_triplet_model.compile(loss=identity_loss, optimizer='adam')\n",
        "    \n",
        "for i in range(N_EPOCHS):\n",
        "    # Sample new negative items to build different triplets at each epoch\n",
        "    triplet_inputs = sample_triplets(train_pos, MAX_ITEM_ID, random_seed=i)\n",
        "        \n",
        "    # Fit the model incrementally by doing a single pass over the sampled triplets\n",
        "    deep_triplet_model.fit(x=triplet_inputs, y=fake_y,\n",
        "                      shuffle=True, batch_size=BATCH_SIZE, epochs=1)"
      ]
    },
    {
      "cell_type": "code",
      "execution_count": 44,
      "metadata": {
        "id": "vsMP-29ml3b7",
        "colab": {
          "base_uri": "https://localhost:8080/"
        },
        "outputId": "0227fa2a-858d-468c-9d90-575fa7b384cb"
      },
      "outputs": [
        {
          "output_type": "stream",
          "name": "stdout",
          "text": [
            "k =  1 , recall =  0.02957009932588193 , precission =  0.2222222222222222\n",
            "k =  2 , recall =  0.05346716723454905 , precission =  0.20878136200716846\n",
            "k =  3 , recall =  0.08010823364853767 , precission =  0.21087216248506555\n",
            "k =  4 , recall =  0.10681055887043188 , precission =  0.2007168458781362\n",
            "k =  5 , recall =  0.13416754440441273 , precission =  0.19713261648745586\n",
            "k =  6 , recall =  0.15138318756376706 , precission =  0.18518518518518537\n",
            "k =  7 , recall =  0.1646175708154434 , precission =  0.1743471582181261\n",
            "k =  8 , recall =  0.18378276027482457 , precission =  0.17137096774193547\n",
            "k =  9 , recall =  0.1954943783240256 , precission =  0.1660692951015538\n",
            "k =  10 , recall =  0.2116796314681534 , precission =  0.16272401433691744\n"
          ]
        }
      ],
      "source": [
        "recall_list = []\n",
        "precision_list = []\n",
        "for i in range(1, 11):\n",
        "  recall, precision = recall_and_precission_at_k(deep_match_model, train_pos, test_pos, i)\n",
        "  print(\"k = \", i, \", recall = \", recall, \", precission = \", precision)\n",
        "  recall_list.append(recall)\n",
        "  precision_list.append(precision)"
      ]
    },
    {
      "cell_type": "code",
      "execution_count": 45,
      "metadata": {
        "id": "g0fV2_iia8Yp",
        "colab": {
          "base_uri": "https://localhost:8080/",
          "height": 316
        },
        "outputId": "cdc7f453-f63b-4540-a6b0-d727c1c24d2a"
      },
      "outputs": [
        {
          "output_type": "execute_result",
          "data": {
            "text/plain": [
              "<matplotlib.legend.Legend at 0x7fc68403dc40>"
            ]
          },
          "metadata": {},
          "execution_count": 45
        },
        {
          "output_type": "display_data",
          "data": {
            "text/plain": [
              "<Figure size 432x288 with 1 Axes>"
            ],
            "image/png": "[encoded data removed]"
          },
          "metadata": {}
        }
      ],
      "source": [
        "plt.style.use(\"ggplot\")\n",
        "plt.figure()\n",
        "plt.plot(recall_list, label=\"Recall\")\n",
        "plt.plot(precision_list, label=\"Precision\")\n",
        "plt.xticks(np.arange(len(recall_list)), np.arange(1, len(recall_list)+1))\n",
        "plt.title(\"Precision and Recall\")\n",
        "plt.xlabel(\"K\")\n",
        "plt.legend(loc=\"lower left\")"
      ]
    },
    {
      "cell_type": "markdown",
      "metadata": {
        "id": "O2213zVubraT"
      },
      "source": [
        "# Custom Baseline"
      ]
    },
    {
      "cell_type": "markdown",
      "metadata": {
        "id": "a1Z5tVOi9vRM"
      },
      "source": [
        "## User based"
      ]
    },
    {
      "cell_type": "markdown",
      "metadata": {
        "id": "89k8L-3obyLc"
      },
      "source": [
        "We develop a rating prediction based on users. As we do not know the similarity betweem items. For it, we used the cosine distante to calculate the distance between users:\n",
        "\n",
        "An advance for the model have been developed:\n",
        "1.   Minimun overlap control. \"min_overlap\" parameter which establis the minimun number o items the should be in the intersection of user evaluation so its similarity is not penalized."
      ]
    },
    {
      "cell_type": "code",
      "execution_count": null,
      "metadata": {
        "id": "MkE23QMAbq_I"
      },
      "outputs": [],
      "source": [
        "class User_based_neighborhoods:\n",
        "  def __init__(self, k = 3, min_overlap = 50, normalize = True):\n",
        "    self.k = k\n",
        "    self.min_overlap = min_overlap\n",
        "    self.normalize = normalize\n",
        "    self.user_similarities = []\n",
        "\n",
        "  def r(self, dataframe, user):\n",
        "    r = np.ones(train[\"newMovieId\"].nunique())\n",
        "    movie_indexes = np.where(dataframe[\"newUserId\"] == user)\n",
        "    r_indexes = dataframe.iloc[movie_indexes][\"newMovieId\"]\n",
        "    r[r_indexes] = dataframe.iloc[movie_indexes][\"rating\"]\n",
        "    return r\n",
        "\n",
        "  def cosine_similarity(self, a,b):\n",
        "      m = 1\n",
        "      if sum(a == b) < self.min_overlap:\n",
        "        m = 1/sum(a == b)\n",
        "      return m * (np.dot(a,b) / ( (np.dot(a,a) **.5) * (np.dot(b,b) ** .5) ))\n",
        "\n",
        "  def sim_coseno(self, dataframe, user_u, user_v):\n",
        "    r_u = self.r(dataframe, user_u)\n",
        "    r_v = self.r(dataframe, user_v)\n",
        "    return self.cosine_similarity(r_u, r_v)\n",
        "\n",
        "  def user_based(self, dataframe, user_u, item_id):\n",
        "    similarities = []\n",
        "    sim_dict = dict(self.user_similarities)\n",
        "\n",
        "    try:\n",
        "      # Check if similarity has been calculated\n",
        "      similarities = sim_dict[user_u]\n",
        "    \n",
        "    except:\n",
        "      for user_v in dataframe[\"newUserId\"].unique():\n",
        "        if user_v != user_u:\n",
        "          similarities.append((self.sim_coseno(dataframe, user_u, user_v), user_v))\n",
        "\n",
        "      similarities.sort(key=lambda x:x[0], reverse=True) #To sort by first element of the tuple\n",
        "      self.user_similarities.append((user_u, similarities))\n",
        "\n",
        "    neighborhood = similarities[:self.k]\n",
        "\n",
        "    c_aux = 0\n",
        "    \n",
        "    sumatory = 0\n",
        "\n",
        "    for i, j in neighborhood:\n",
        "      r_v_x = dataframe.loc[(dataframe['newUserId'] == j) & (dataframe['newMovieId'] == item_id)][\"rating\"]\n",
        "      if len(r_v_x) != 1:\n",
        "        continue\n",
        "      c_aux += i\n",
        "      sumatory += r_v_x.item() * i\n",
        "\n",
        "    if c_aux == 0:\n",
        "      # If there is no recommendation\n",
        "      return 0\n",
        "\n",
        "    if self.normalize:\n",
        "      c = 1 / c_aux\n",
        "    else:\n",
        "      c = 1\n",
        "    return c*sumatory\n",
        "\n",
        "  def recall_and_precission_at_k(self, train, test, k):\n",
        "    data_train = train[train[\"rating\"] > 3.5]\n",
        "    data_test = test[test[\"rating\"] > 3.5]\n",
        "\n",
        "    max_user_id = max(data_train['newUserId'].max(),\n",
        "                      data_test['newUserId'].max())\n",
        "    max_movie_id = max(data_train['newMovieId'].max(),\n",
        "                       data_test['newMovieId'].max())\n",
        "    \n",
        "    sum_recall_list = []\n",
        "    sum_precission_list = []\n",
        "\n",
        "    for user_id in range(0, max_user_id + 1):\n",
        "      pos_item_train = data_train[data_train['newUserId'] == user_id]\n",
        "      pos_item_test = data_test[data_test['newUserId'] == user_id]\n",
        "\n",
        "      # Consider all the items already seen in the training set\n",
        "      all_item_idx = np.arange(1, max_movie_id + 1)\n",
        "      items_to_rank = np.setdiff1d(all_item_idx,\n",
        "                                    pos_item_train['newMovieId'].values)\n",
        "      \n",
        "      # Ground truth: return 1 for each item positively present in\n",
        "      # the test set and 0 otherwise\n",
        "      expected = np.in1d(items_to_rank,\n",
        "                         pos_item_test['newMovieId'].values)\n",
        "      \n",
        "      # At least one positive test value to rank\n",
        "      if np.sum(expected) >= 1:\n",
        "          # Make prediction\n",
        "          predicted = []\n",
        "          for i in items_to_rank:\n",
        "            predicted.append(self.user_based(train, user_id, i))\n",
        "          \n",
        "          # # Compute Rel@k/Rel\n",
        "          indexes = np.argsort(predicted)\n",
        "          top_index = indexes[-k:]\n",
        "          rel = sum(expected)\n",
        "          top_expected = expected[top_index]\n",
        "          rel_at_k = sum(top_expected)\n",
        "\n",
        "          sum_recall_list.append(rel_at_k / rel)\n",
        "\n",
        "          # Compute Rel@k\n",
        "          sum_precission_list.append(rel_at_k / k)\n",
        "        \n",
        "    return sum(sum_recall_list) / len(sum_recall_list), sum(sum_precission_list) / len(sum_precission_list)"
      ]
    },
    {
      "cell_type": "code",
      "execution_count": null,
      "metadata": {
        "id": "12HotV1vhEGM"
      },
      "outputs": [],
      "source": [
        "new_train = train.sort_values(by=[\"newUserId\", \"newMovieId\"])\n",
        "new_train = new_train.reset_index()\n",
        "new_train = new_train [[\"newUserId\", \"newMovieId\", \"rating\"]]"
      ]
    },
    {
      "cell_type": "code",
      "execution_count": null,
      "metadata": {
        "colab": {
          "base_uri": "https://localhost:8080/",
          "height": 424
        },
        "id": "5E5lD2k5jdtH",
        "outputId": "98ddb892-7a83-4d8a-ecb1-151c4c036873"
      },
      "outputs": [
        {
          "data": {
            "text/html": [
              "\n",
              "  <div id=\"df-62a97933-2899-446e-b67a-18b941cf83c0\">\n",
              "    <div class=\"colab-df-container\">\n",
              "      <div>\n",
              "<style scoped>\n",
              "    .dataframe tbody tr th:only-of-type {\n",
              "        vertical-align: middle;\n",
              "    }\n",
              "\n",
              "    .dataframe tbody tr th {\n",
              "        vertical-align: top;\n",
              "    }\n",
              "\n",
              "    .dataframe thead th {\n",
              "        text-align: right;\n",
              "    }\n",
              "</style>\n",
              "<table border=\"1\" class=\"dataframe\">\n",
              "  <thead>\n",
              "    <tr style=\"text-align: right;\">\n",
              "      <th></th>\n",
              "      <th>newUserId</th>\n",
              "      <th>newMovieId</th>\n",
              "      <th>rating</th>\n",
              "    </tr>\n",
              "  </thead>\n",
              "  <tbody>\n",
              "    <tr>\n",
              "      <th>0</th>\n",
              "      <td>0</td>\n",
              "      <td>0</td>\n",
              "      <td>4.0</td>\n",
              "    </tr>\n",
              "    <tr>\n",
              "      <th>1</th>\n",
              "      <td>0</td>\n",
              "      <td>3</td>\n",
              "      <td>4.0</td>\n",
              "    </tr>\n",
              "    <tr>\n",
              "      <th>2</th>\n",
              "      <td>0</td>\n",
              "      <td>16</td>\n",
              "      <td>5.0</td>\n",
              "    </tr>\n",
              "    <tr>\n",
              "      <th>3</th>\n",
              "      <td>0</td>\n",
              "      <td>20</td>\n",
              "      <td>3.0</td>\n",
              "    </tr>\n",
              "    <tr>\n",
              "      <th>4</th>\n",
              "      <td>0</td>\n",
              "      <td>23</td>\n",
              "      <td>4.0</td>\n",
              "    </tr>\n",
              "    <tr>\n",
              "      <th>...</th>\n",
              "      <td>...</td>\n",
              "      <td>...</td>\n",
              "      <td>...</td>\n",
              "    </tr>\n",
              "    <tr>\n",
              "      <th>32523</th>\n",
              "      <td>605</td>\n",
              "      <td>431</td>\n",
              "      <td>4.5</td>\n",
              "    </tr>\n",
              "    <tr>\n",
              "      <th>32524</th>\n",
              "      <td>605</td>\n",
              "      <td>432</td>\n",
              "      <td>4.5</td>\n",
              "    </tr>\n",
              "    <tr>\n",
              "      <th>32525</th>\n",
              "      <td>605</td>\n",
              "      <td>433</td>\n",
              "      <td>3.5</td>\n",
              "    </tr>\n",
              "    <tr>\n",
              "      <th>32526</th>\n",
              "      <td>605</td>\n",
              "      <td>434</td>\n",
              "      <td>4.5</td>\n",
              "    </tr>\n",
              "    <tr>\n",
              "      <th>32527</th>\n",
              "      <td>605</td>\n",
              "      <td>435</td>\n",
              "      <td>3.0</td>\n",
              "    </tr>\n",
              "  </tbody>\n",
              "</table>\n",
              "<p>32528 rows × 3 columns</p>\n",
              "</div>\n",
              "      <button class=\"colab-df-convert\" onclick=\"convertToInteractive('df-62a97933-2899-446e-b67a-18b941cf83c0')\"\n",
              "              title=\"Convert this dataframe to an interactive table.\"\n",
              "              style=\"display:none;\">\n",
              "        \n",
              "  <svg xmlns=\"http://www.w3.org/2000/svg\" height=\"24px\"viewBox=\"0 0 24 24\"\n",
              "       width=\"24px\">\n",
              "    <path d=\"M0 0h24v24H0V0z\" fill=\"none\"/>\n",
              "    <path d=\"M18.56 5.44l.94 2.06.94-2.06 2.06-.94-2.06-.94-.94-2.06-.94 2.06-2.06.94zm-11 1L8.5 8.5l.94-2.06 2.06-.94-2.06-.94L8.5 2.5l-.94 2.06-2.06.94zm10 10l.94 2.06.94-2.06 2.06-.94-2.06-.94-.94-2.06-.94 2.06-2.06.94z\"/><path d=\"M17.41 7.96l-1.37-1.37c-.4-.4-.92-.59-1.43-.59-.52 0-1.04.2-1.43.59L10.3 9.45l-7.72 7.72c-.78.78-.78 2.05 0 2.83L4 21.41c.39.39.9.59 1.41.59.51 0 1.02-.2 1.41-.59l7.78-7.78 2.81-2.81c.8-.78.8-2.07 0-2.86zM5.41 20L4 18.59l7.72-7.72 1.47 1.35L5.41 20z\"/>\n",
              "  </svg>\n",
              "      </button>\n",
              "      \n",
              "  <style>\n",
              "    .colab-df-container {\n",
              "      display:flex;\n",
              "      flex-wrap:wrap;\n",
              "      gap: 12px;\n",
              "    }\n",
              "\n",
              "    .colab-df-convert {\n",
              "      background-color: #E8F0FE;\n",
              "      border: none;\n",
              "      border-radius: 50%;\n",
              "      cursor: pointer;\n",
              "      display: none;\n",
              "      fill: #1967D2;\n",
              "      height: 32px;\n",
              "      padding: 0 0 0 0;\n",
              "      width: 32px;\n",
              "    }\n",
              "\n",
              "    .colab-df-convert:hover {\n",
              "      background-color: #E2EBFA;\n",
              "      box-shadow: 0px 1px 2px rgba(60, 64, 67, 0.3), 0px 1px 3px 1px rgba(60, 64, 67, 0.15);\n",
              "      fill: #174EA6;\n",
              "    }\n",
              "\n",
              "    [theme=dark] .colab-df-convert {\n",
              "      background-color: #3B4455;\n",
              "      fill: #D2E3FC;\n",
              "    }\n",
              "\n",
              "    [theme=dark] .colab-df-convert:hover {\n",
              "      background-color: #434B5C;\n",
              "      box-shadow: 0px 1px 3px 1px rgba(0, 0, 0, 0.15);\n",
              "      filter: drop-shadow(0px 1px 2px rgba(0, 0, 0, 0.3));\n",
              "      fill: #FFFFFF;\n",
              "    }\n",
              "  </style>\n",
              "\n",
              "      <script>\n",
              "        const buttonEl =\n",
              "          document.querySelector('#df-62a97933-2899-446e-b67a-18b941cf83c0 button.colab-df-convert');\n",
              "        buttonEl.style.display =\n",
              "          google.colab.kernel.accessAllowed ? 'block' : 'none';\n",
              "\n",
              "        async function convertToInteractive(key) {\n",
              "          const element = document.querySelector('#df-62a97933-2899-446e-b67a-18b941cf83c0');\n",
              "          const dataTable =\n",
              "            await google.colab.kernel.invokeFunction('convertToInteractive',\n",
              "                                                     [key], {});\n",
              "          if (!dataTable) return;\n",
              "\n",
              "          const docLinkHtml = 'Like what you see? Visit the ' +\n",
              "            '<a target=\"_blank\" href=https://colab.research.google.com/notebooks/data_table.ipynb>data table notebook</a>'\n",
              "            + ' to learn more about interactive tables.';\n",
              "          element.innerHTML = '';\n",
              "          dataTable['output_type'] = 'display_data';\n",
              "          await google.colab.output.renderOutput(dataTable, element);\n",
              "          const docLink = document.createElement('div');\n",
              "          docLink.innerHTML = docLinkHtml;\n",
              "          element.appendChild(docLink);\n",
              "        }\n",
              "      </script>\n",
              "    </div>\n",
              "  </div>\n",
              "  "
            ],
            "text/plain": [
              "       newUserId  newMovieId  rating\n",
              "0              0           0     4.0\n",
              "1              0           3     4.0\n",
              "2              0          16     5.0\n",
              "3              0          20     3.0\n",
              "4              0          23     4.0\n",
              "...          ...         ...     ...\n",
              "32523        605         431     4.5\n",
              "32524        605         432     4.5\n",
              "32525        605         433     3.5\n",
              "32526        605         434     4.5\n",
              "32527        605         435     3.0\n",
              "\n",
              "[32528 rows x 3 columns]"
            ]
          },
          "execution_count": 49,
          "metadata": {},
          "output_type": "execute_result"
        }
      ],
      "source": [
        "new_train"
      ]
    },
    {
      "cell_type": "code",
      "execution_count": null,
      "metadata": {
        "colab": {
          "base_uri": "https://localhost:8080/"
        },
        "id": "-NFlql9l8tlb",
        "outputId": "9174faec-e917-46b6-ffdf-0501b725efed"
      },
      "outputs": [
        {
          "name": "stdout",
          "output_type": "stream",
          "text": [
            "User  0  Item  0 Score:  3.0000000000000004\n"
          ]
        }
      ],
      "source": [
        "i = j = 0\n",
        "recomender = User_based_neighborhoods(k=7)\n",
        "print(\"User \", i, \" Item \", j, \"Score: \", recomender.user_based(train, i, j))"
      ]
    },
    {
      "cell_type": "markdown",
      "metadata": {
        "id": "MAau3WJq9zN9"
      },
      "source": [
        "## Precision y Recall"
      ]
    },
    {
      "cell_type": "code",
      "execution_count": null,
      "metadata": {
        "id": "p0XnIKzm86jk"
      },
      "outputs": [],
      "source": [
        "new_test = test.sort_values(by=[\"newUserId\", \"newMovieId\"])\n",
        "new_test = new_test.reset_index()\n",
        "new_test = new_test [[\"newUserId\", \"newMovieId\", \"rating\"]]"
      ]
    },
    {
      "cell_type": "code",
      "execution_count": null,
      "metadata": {
        "id": "TtngGVSgRYJS"
      },
      "outputs": [],
      "source": [
        "recall, precision = recomender.recomenders(new_train, new_test, 10)"
      ]
    },
    {
      "cell_type": "code",
      "execution_count": null,
      "metadata": {
        "colab": {
          "base_uri": "https://localhost:8080/"
        },
        "id": "FC1CQb2o0USi",
        "outputId": "296ff268-0e81-4e91-8df5-28b38b377292"
      },
      "outputs": [
        {
          "name": "stdout",
          "output_type": "stream",
          "text": [
            "0.781016183574225 0.45749999999999935\n"
          ]
        }
      ],
      "source": [
        "print(recall, precision)"
      ]
    },
    {
      "cell_type": "code",
      "execution_count": null,
      "metadata": {
        "colab": {
          "base_uri": "https://localhost:8080/"
        },
        "id": "i0ae0gVCraQ2",
        "outputId": "8abfbb7b-d1a8-4a85-bb34-eb8a069d8618"
      },
      "outputs": [
        {
          "name": "stdout",
          "output_type": "stream",
          "text": [
            "18min 59s ± 3.85 s per loop (mean ± std. dev. of 7 runs, 1 loop each)\n"
          ]
        }
      ],
      "source": [
        "%%timeit\n",
        "recall, precision = recomender.recall_and_precission_at_k(new_train, new_test, 10)"
      ]
    },
    {
      "cell_type": "code",
      "execution_count": null,
      "metadata": {
        "colab": {
          "base_uri": "https://localhost:8080/"
        },
        "id": "F0EIfr1zzGLq",
        "outputId": "6d44d177-0090-4c3c-8ab3-6dc671e6a8a3"
      },
      "outputs": [
        {
          "name": "stdout",
          "output_type": "stream",
          "text": [
            "0.781016183574225 0.45749999999999935\n"
          ]
        }
      ],
      "source": [
        "print(recall, precision)"
      ]
    },
    {
      "cell_type": "code",
      "execution_count": null,
      "metadata": {
        "colab": {
          "base_uri": "https://localhost:8080/"
        },
        "id": "qzXyzVnqrKpm",
        "outputId": "bf59e9f3-52a5-4ffd-f554-2d495e770c6c"
      },
      "outputs": [
        {
          "name": "stderr",
          "output_type": "stream",
          "text": [
            "100%|██████████| 8132/8132 [18:44<00:00,  7.23it/s]\n"
          ]
        },
        {
          "name": "stdout",
          "output_type": "stream",
          "text": [
            "k =  1 , recall =  0.10242941575861829 , precission =  0.06397849462365604\n"
          ]
        },
        {
          "name": "stderr",
          "output_type": "stream",
          "text": [
            "100%|██████████| 8132/8132 [18:37<00:00,  7.28it/s]\n"
          ]
        },
        {
          "name": "stdout",
          "output_type": "stream",
          "text": [
            "k =  3 , recall =  0.12028981933306504 , precission =  0.07544802867383534\n"
          ]
        },
        {
          "name": "stderr",
          "output_type": "stream",
          "text": [
            "100%|██████████| 8132/8132 [18:35<00:00,  7.29it/s]\n"
          ]
        },
        {
          "name": "stdout",
          "output_type": "stream",
          "text": [
            "k =  5 , recall =  0.1308657682390773 , precission =  0.07491039426523317\n"
          ]
        },
        {
          "name": "stderr",
          "output_type": "stream",
          "text": [
            "100%|██████████| 8132/8132 [18:46<00:00,  7.22it/s]\n"
          ]
        },
        {
          "name": "stdout",
          "output_type": "stream",
          "text": [
            "k =  7 , recall =  0.13479217714717578 , precission =  0.07150537634408624\n"
          ]
        },
        {
          "name": "stderr",
          "output_type": "stream",
          "text": [
            "100%|██████████| 8132/8132 [19:55<00:00,  6.80it/s]\n"
          ]
        },
        {
          "name": "stdout",
          "output_type": "stream",
          "text": [
            "k =  11 , recall =  0.11961545146851675 , precission =  0.06684587813620094\n"
          ]
        },
        {
          "name": "stderr",
          "output_type": "stream",
          "text": [
            "100%|██████████| 8132/8132 [20:37<00:00,  6.57it/s]\n"
          ]
        },
        {
          "name": "stdout",
          "output_type": "stream",
          "text": [
            "k =  19 , recall =  0.1012718415356405 , precission =  0.06899641577060953\n"
          ]
        }
      ],
      "source": [
        "recall_list_neighbours = []\n",
        "precision_list_neighbours = []\n",
        "\n",
        "recomenders = []\n",
        "\n",
        "for i in [1, 3, 5, 7, 11, 19]:\n",
        "  recomenders.append(User_based_neighborhoods(k=i))\n",
        "  recall, precision = recomenders[-1].recall_and_precission_at_k(new_train, new_test, 10)\n",
        "  print(\"k = \", i, \", recall = \", recall, \", precission = \", precision)\n",
        "  recall_list_neighbours.append(recall)\n",
        "  precision_list_neighbours.append(precision)"
      ]
    },
    {
      "cell_type": "code",
      "execution_count": null,
      "metadata": {
        "id": "2U17z-4kGXsL"
      },
      "outputs": [],
      "source": [
        "recomender = User_based_neighborhoods(k=5)"
      ]
    },
    {
      "cell_type": "code",
      "execution_count": null,
      "metadata": {
        "colab": {
          "background_save": true
        },
        "id": "ttHA7JTol83r"
      },
      "outputs": [],
      "source": [
        "recall_list = []\n",
        "precision_list = []\n",
        "for i in range(1, 11):\n",
        "  recall, precision = recomender.recall_and_precission_at_k(new_train, new_test, i)\n",
        "  print(\"k = \", i, \", recall = \", recall, \", precission = \", precision)\n",
        "  recall_list.append(recall)\n",
        "  precision_list.append(precision)"
      ]
    }
  ],
  "metadata": {
    "colab": {
      "provenance": []
    },
    "kernelspec": {
      "display_name": "Python 3",
      "name": "python3"
    },
    "language_info": {
      "name": "python"
    }
  },
  "nbformat": 4,
  "nbformat_minor": 0
}